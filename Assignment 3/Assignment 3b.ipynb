{
 "cells": [
  {
   "cell_type": "markdown",
   "source": [
    "<center><h1>ITIT-4103-2021</h1></center>\r\n",
    "<center><h3>Assignment 3 - B</h3></center>"
   ],
   "metadata": {}
  },
  {
   "cell_type": "markdown",
   "source": [
    "- ### Name: Aadit Agarwal\r\n",
    "- ### Roll No: 2018IMT-001\r\n",
    "- ### Course: Machine Learning Lab\r\n",
    "- ### Course Code: ITIT-4107"
   ],
   "metadata": {}
  },
  {
   "cell_type": "markdown",
   "source": [
    "### Imports"
   ],
   "metadata": {}
  },
  {
   "cell_type": "code",
   "execution_count": 2,
   "source": [
    "import numpy as np\r\n",
    "from matplotlib import pyplot as plt"
   ],
   "outputs": [],
   "metadata": {}
  },
  {
   "cell_type": "markdown",
   "source": [
    "### Data Generation"
   ],
   "metadata": {}
  },
  {
   "cell_type": "code",
   "execution_count": 3,
   "source": [
    "input=np.random.random((50,1))\r\n",
    "noiseless=np.sin(1+np.square(input))\r\n",
    "noise=np.random.normal(0,0.032,size=(50,1))"
   ],
   "outputs": [],
   "metadata": {}
  },
  {
   "cell_type": "code",
   "execution_count": 4,
   "source": [
    "noisefull=noiseless+noise"
   ],
   "outputs": [],
   "metadata": {}
  },
  {
   "cell_type": "markdown",
   "source": [
    "### Data Preperation Functions"
   ],
   "metadata": {}
  },
  {
   "cell_type": "code",
   "execution_count": 6,
   "source": [
    "def getPoweredX(deg, X_t):\r\n",
    "    X_pow = X_t.copy()\r\n",
    "    for i in range(2, deg + 1):\r\n",
    "        powmat = (X_t[:, 1] ** i).reshape(X_pow.shape[0], 1)\r\n",
    "        X_pow = np.append(X_pow, powmat, axis=1)\r\n",
    "    return X_pow"
   ],
   "outputs": [],
   "metadata": {}
  },
  {
   "cell_type": "code",
   "execution_count": 7,
   "source": [
    "def calculateEmpricalRisk(yh):\r\n",
    "    error = sum((Y - yh) ** 2)\r\n",
    "    return error / len(Y)"
   ],
   "outputs": [],
   "metadata": {}
  },
  {
   "cell_type": "markdown",
   "source": [
    "### Noiseless Data"
   ],
   "metadata": {}
  },
  {
   "cell_type": "code",
   "execution_count": 5,
   "source": [
    "X = input\r\n",
    "X_train = np.append(np.ones((X.shape[0], 1)), X, axis=1)\r\n",
    "Y = noiseless\r\n",
    "\r\n",
    "fig, ((ax1, ax2), (ax3, ax4)) = plt.subplots(2, 2)"
   ],
   "outputs": [
    {
     "output_type": "display_data",
     "data": {
      "image/png": "[encoded data removed]",
      "text/plain": [
       "<Figure size 432x288 with 4 Axes>"
      ]
     },
     "metadata": {
      "needs_background": "light"
     }
    }
   ],
   "metadata": {}
  },
  {
   "cell_type": "markdown",
   "source": [
    "### Degree 1 Polynomial"
   ],
   "metadata": {}
  },
  {
   "cell_type": "code",
   "execution_count": 8,
   "source": [
    "deg1 = 1\r\n",
    "X1 = getPoweredX(deg1, X_train)\r\n",
    "\r\n",
    "first_part = np.linalg.inv(np.dot(X1.transpose(), X1))\r\n",
    "second_part = np.dot(first_part, X1.transpose())\r\n",
    "W1 = np.dot(second_part, Y)\r\n",
    "\r\n",
    "ax1.scatter(X, Y)\r\n",
    "ax1.scatter(X1[:,1], np.dot(X1, W1))\r\n",
    "ax1.set_title(\"Degree=1\")\r\n",
    "print(\"Empirical risk for degree 1 model: \", calculateEmpricalRisk(np.dot(X1, W1)))"
   ],
   "outputs": [
    {
     "output_type": "stream",
     "name": "stdout",
     "text": [
      "Empirical risk for degree 1 model:  [0.00040459]\n"
     ]
    }
   ],
   "metadata": {}
  },
  {
   "cell_type": "markdown",
   "source": [
    "### Degree 2 Polynomial"
   ],
   "metadata": {}
  },
  {
   "cell_type": "code",
   "execution_count": 9,
   "source": [
    "deg2 = 2\r\n",
    "X2 = getPoweredX(deg2, X_train)\r\n",
    "\r\n",
    "first_part = np.linalg.pinv(np.dot(X2.transpose(), X2))\r\n",
    "second_part = np.dot(first_part, X2.transpose())\r\n",
    "W2 = np.dot(second_part, Y)\r\n",
    "\r\n",
    "ax2.scatter(X, Y)\r\n",
    "ax2.scatter(X2[:,1], np.dot(X2, W2))\r\n",
    "ax2.set_title(\"Degree=2\")\r\n",
    "print(\"Empirical risk for degree 2 model: \", calculateEmpricalRisk(np.dot(X2, W2)))"
   ],
   "outputs": [
    {
     "output_type": "stream",
     "name": "stdout",
     "text": [
      "Empirical risk for degree 2 model:  [0.00023924]\n"
     ]
    }
   ],
   "metadata": {}
  },
  {
   "cell_type": "markdown",
   "source": [
    "### Degree 3 Polynomial"
   ],
   "metadata": {}
  },
  {
   "cell_type": "code",
   "execution_count": 10,
   "source": [
    "deg3 = 3\r\n",
    "X3 = getPoweredX(deg3, X_train)\r\n",
    "\r\n",
    "first_part = np.linalg.pinv(np.dot(X3.transpose(), X3))\r\n",
    "second_part = np.dot(first_part, X3.transpose())\r\n",
    "W3 = np.dot(second_part, Y)\r\n",
    "\r\n",
    "ax3.scatter(X, Y)\r\n",
    "ax3.scatter(X3[:,1], np.dot(X3, W3))\r\n",
    "ax3.set_title(\"Degree=3\")\r\n",
    "print(\"Empirical risk for degree 3 model: \", calculateEmpricalRisk(np.dot(X3, W3)))"
   ],
   "outputs": [
    {
     "output_type": "stream",
     "name": "stdout",
     "text": [
      "Empirical risk for degree 3 model:  [4.70029544e-06]\n"
     ]
    }
   ],
   "metadata": {}
  },
  {
   "cell_type": "markdown",
   "source": [
    "### Degree 4 Polynomial"
   ],
   "metadata": {}
  },
  {
   "cell_type": "code",
   "execution_count": 11,
   "source": [
    "deg4 = 4\r\n",
    "X4 = getPoweredX(deg4, X_train)\r\n",
    "\r\n",
    "first_part = np.linalg.pinv(np.dot(X4.transpose(), X4))\r\n",
    "second_part = np.dot(first_part, X4.transpose())\r\n",
    "W4 = np.dot(second_part, Y)\r\n",
    "\r\n",
    "\r\n",
    "ax4.scatter(X, Y)\r\n",
    "\r\n",
    "ax4.scatter(X4[:,1],np.dot(X4,W4))\r\n",
    "ax4.set_title(\"Degree=4\")\r\n",
    "print(\"Empirical risk for degree 4 model: \", calculateEmpricalRisk(np.dot(X4, W4)))\r\n",
    "plt.show()"
   ],
   "outputs": [
    {
     "output_type": "stream",
     "name": "stdout",
     "text": [
      "Empirical risk for degree 4 model:  [3.0242373e-09]\n"
     ]
    }
   ],
   "metadata": {}
  }
 ],
 "metadata": {
  "orig_nbformat": 4,
  "language_info": {
   "name": "python",
   "version": "3.8.3",
   "mimetype": "text/x-python",
   "codemirror_mode": {
    "name": "ipython",
    "version": 3
   },
   "pygments_lexer": "ipython3",
   "nbconvert_exporter": "python",
   "file_extension": ".py"
  },
  "kernelspec": {
   "name": "python3",
   "display_name": "Python 3.8.3 64-bit ('base': conda)"
  },
  "interpreter": {
   "hash": "b3ba2566441a7c06988d0923437866b63cedc61552a5af99d1f4fb67d367b25f"
  }
 },
 "nbformat": 4,
 "nbformat_minor": 2
}