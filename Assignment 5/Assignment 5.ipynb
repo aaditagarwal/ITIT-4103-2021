{
 "cells": [
  {
   "cell_type": "markdown",
   "metadata": {},
   "source": [
    "<center><h1>ITIT-4103-2021</h1></center>\n",
    "<center><h3>Assignment 5</h3></center>"
   ]
  },
  {
   "cell_type": "markdown",
   "metadata": {},
   "source": [
    "- **Name**: Aadit Agarwal\n",
    "- **Roll No**: 2018IMT-001\n",
    "- **Course**: Machine Learning Lab\n",
    "- **Course Code**: ITIT-4107-2021"
   ]
  },
  {
   "cell_type": "markdown",
   "metadata": {},
   "source": [
    "## Problem Statement"
   ]
  },
  {
   "cell_type": "markdown",
   "metadata": {},
   "source": [
    "### Given iris dataset with 3 classes and 4 features such as sepals/petals, Length, width etc. for each flower in the dataset. There are 50 instances per class in the dataset.\n",
    "### Use Bayes Classifier as your base classifier model. Use 60% samples for training and 40% samples for testing."
   ]
  },
  {
   "cell_type": "markdown",
   "metadata": {},
   "source": [
    "## Objectives\n"
   ]
  },
  {
   "cell_type": "markdown",
   "metadata": {},
   "source": [
    "1. Perform feature selection on this dataset using forward search.\n",
    "\n",
    "2. As you select features, until 2 features, plot your right and incorrect classification instances for all classes.\n",
    "\n",
    "3. For all the set of features selected, plot the accuracies to show the best subset of selected features"
   ]
  },
  {
   "cell_type": "markdown",
   "metadata": {},
   "source": [
    "## Imports"
   ]
  },
  {
   "cell_type": "code",
   "execution_count": 1,
   "metadata": {},
   "outputs": [],
   "source": [
    "import numpy as np\n",
    "import pandas as pd\n",
    "from scipy.stats import multivariate_normal as mvn\n",
    "from sklearn.model_selection import train_test_split\n",
    "from matplotlib import pyplot as plt"
   ]
  },
  {
   "cell_type": "markdown",
   "metadata": {},
   "source": [
    "## Data Loading"
   ]
  },
  {
   "cell_type": "code",
   "execution_count": 2,
   "metadata": {},
   "outputs": [],
   "source": [
    "data = pd.read_csv('iris_data.csv', header=None).values\n",
    "X = data[:, :4]\n",
    "Y = data[:, 4:]"
   ]
  },
  {
   "cell_type": "markdown",
   "metadata": {},
   "source": [
    "## Data Preparation"
   ]
  },
  {
   "cell_type": "code",
   "execution_count": 3,
   "metadata": {},
   "outputs": [],
   "source": [
    "flower = ['SepalLength','SepalWidth','PetalLength','PetalWidth']\n",
    "classes = ['Iris-setosa','Iris-versicolor','Iris-virginica']"
   ]
  },
  {
   "cell_type": "markdown",
   "metadata": {},
   "source": [
    "###  • Label Preparation"
   ]
  },
  {
   "cell_type": "code",
   "execution_count": 4,
   "metadata": {},
   "outputs": [],
   "source": [
    "for i,num in enumerate(Y):\n",
    "    if Y[i]=='Iris-setosa':\n",
    "        Y[i]=0\n",
    "    if Y[i]=='Iris-versicolor':\n",
    "        Y[i]=1\n",
    "    if Y[i]=='Iris-virginica':\n",
    "        Y[i]=2\n",
    "\n",
    "Y=Y.flatten()"
   ]
  },
  {
   "cell_type": "markdown",
   "metadata": {},
   "source": [
    "### • Data Split"
   ]
  },
  {
   "cell_type": "code",
   "execution_count": 5,
   "metadata": {},
   "outputs": [],
   "source": [
    "X_train, X_test, Y_train, Y_test = train_test_split(X, Y, test_size=0.4, random_state=42)"
   ]
  },
  {
   "cell_type": "markdown",
   "metadata": {},
   "source": [
    "## Machine Learning Model"
   ]
  },
  {
   "cell_type": "code",
   "execution_count": 6,
   "metadata": {},
   "outputs": [],
   "source": [
    "class NaiveBayes(object):\n",
    "    def fit(self, X, Y, smoothing=10e-4):\n",
    "        self.gaussians = dict()\n",
    "        self.priors = dict()\n",
    "        labels = set(Y)\n",
    "        for c in labels:\n",
    "            current_x = X[Y == c]\n",
    "\n",
    "            self.gaussians[c] = {\n",
    "                'mean': current_x.mean(axis=0),\n",
    "                'var': current_x.var(axis=0) + smoothing,\n",
    "            }\n",
    "            self.priors[c] = float(len(Y[Y == c])) / len(Y)\n",
    "\n",
    "    def predict(self, X):\n",
    "        N, D = X.shape\n",
    "        K = len(self.gaussians)\n",
    "        P = np.zeros((N, K))\n",
    "        for c, g in self.gaussians.items():\n",
    "            mean, var = g['mean'], g['var']\n",
    "            P[:, c] = mvn.logpdf(X, mean=mean, cov=var,allow_singular=True) + np.log(self.priors[c])\n",
    "\n",
    "        return np.argmax(P, axis=1)"
   ]
  },
  {
   "cell_type": "markdown",
   "metadata": {},
   "source": [
    "## Base Level Prediction "
   ]
  },
  {
   "cell_type": "code",
   "execution_count": 7,
   "metadata": {},
   "outputs": [],
   "source": [
    "model = NaiveBayes()\n",
    "model.fit(X_train, Y_train)\n",
    "FIN = model.predict(X_test)"
   ]
  },
  {
   "cell_type": "markdown",
   "metadata": {},
   "source": [
    "## Feature Selection Based Predictions"
   ]
  },
  {
   "cell_type": "code",
   "execution_count": 8,
   "metadata": {},
   "outputs": [],
   "source": [
    "used, accuracy, ystr = [], [], []\n",
    "visit = [0,0,0,0]\n",
    "ind = 0\n",
    "X_features = np.zeros((X.shape[0],1))"
   ]
  },
  {
   "cell_type": "code",
   "execution_count": 9,
   "metadata": {},
   "outputs": [
    {
     "ename": "IndexError",
     "evalue": "list index out of range",
     "output_type": "error",
     "traceback": [
      "\u001b[1;31m---------------------------------------------------------------------------\u001b[0m",
      "\u001b[1;31mIndexError\u001b[0m                                Traceback (most recent call last)",
      "\u001b[1;32m<ipython-input-9-86695d5af5d1>\u001b[0m in \u001b[0;36m<module>\u001b[1;34m\u001b[0m\n\u001b[0;32m    108\u001b[0m             \u001b[0mystr\u001b[0m\u001b[1;33m.\u001b[0m\u001b[0mappend\u001b[0m\u001b[1;33m(\u001b[0m\u001b[0mstr\u001b[0m\u001b[1;33m(\u001b[0m\u001b[0mflower\u001b[0m\u001b[1;33m[\u001b[0m\u001b[0mj\u001b[0m\u001b[1;33m]\u001b[0m\u001b[1;33m)\u001b[0m\u001b[1;33m)\u001b[0m\u001b[1;33m\u001b[0m\u001b[1;33m\u001b[0m\u001b[0m\n\u001b[0;32m    109\u001b[0m         \u001b[1;32melif\u001b[0m \u001b[0mti\u001b[0m\u001b[1;33m==\u001b[0m\u001b[1;36m1\u001b[0m\u001b[1;33m:\u001b[0m\u001b[1;33m\u001b[0m\u001b[1;33m\u001b[0m\u001b[0m\n\u001b[1;32m--> 110\u001b[1;33m             \u001b[0mystr\u001b[0m\u001b[1;33m.\u001b[0m\u001b[0mappend\u001b[0m\u001b[1;33m(\u001b[0m\u001b[0mstr\u001b[0m\u001b[1;33m(\u001b[0m\u001b[0mflower\u001b[0m\u001b[1;33m[\u001b[0m\u001b[0mused\u001b[0m\u001b[1;33m[\u001b[0m\u001b[1;36m0\u001b[0m\u001b[1;33m]\u001b[0m\u001b[1;33m]\u001b[0m\u001b[1;33m)\u001b[0m\u001b[1;33m+\u001b[0m\u001b[1;34m','\u001b[0m\u001b[1;33m+\u001b[0m\u001b[0mstr\u001b[0m\u001b[1;33m(\u001b[0m\u001b[0mflower\u001b[0m\u001b[1;33m[\u001b[0m\u001b[0mj\u001b[0m\u001b[1;33m]\u001b[0m\u001b[1;33m)\u001b[0m\u001b[1;33m)\u001b[0m\u001b[1;33m\u001b[0m\u001b[1;33m\u001b[0m\u001b[0m\n\u001b[0m\u001b[0;32m    111\u001b[0m         \u001b[1;32melif\u001b[0m \u001b[0mti\u001b[0m\u001b[1;33m==\u001b[0m\u001b[1;36m2\u001b[0m\u001b[1;33m:\u001b[0m\u001b[1;33m\u001b[0m\u001b[1;33m\u001b[0m\u001b[0m\n\u001b[0;32m    112\u001b[0m             \u001b[0mystr\u001b[0m\u001b[1;33m.\u001b[0m\u001b[0mappend\u001b[0m\u001b[1;33m(\u001b[0m\u001b[0mstr\u001b[0m\u001b[1;33m(\u001b[0m\u001b[0mflower\u001b[0m\u001b[1;33m[\u001b[0m\u001b[0mused\u001b[0m\u001b[1;33m[\u001b[0m\u001b[1;36m0\u001b[0m\u001b[1;33m]\u001b[0m\u001b[1;33m]\u001b[0m\u001b[1;33m)\u001b[0m\u001b[1;33m+\u001b[0m\u001b[1;34m','\u001b[0m\u001b[1;33m+\u001b[0m\u001b[0mstr\u001b[0m\u001b[1;33m(\u001b[0m\u001b[0mflower\u001b[0m\u001b[1;33m[\u001b[0m\u001b[0mused\u001b[0m\u001b[1;33m[\u001b[0m\u001b[1;36m1\u001b[0m\u001b[1;33m]\u001b[0m\u001b[1;33m]\u001b[0m\u001b[1;33m)\u001b[0m\u001b[1;33m+\u001b[0m\u001b[1;34m','\u001b[0m\u001b[1;33m+\u001b[0m\u001b[0mstr\u001b[0m\u001b[1;33m(\u001b[0m\u001b[0mflower\u001b[0m\u001b[1;33m[\u001b[0m\u001b[0mj\u001b[0m\u001b[1;33m]\u001b[0m\u001b[1;33m)\u001b[0m\u001b[1;33m)\u001b[0m\u001b[1;33m\u001b[0m\u001b[1;33m\u001b[0m\u001b[0m\n",
      "\u001b[1;31mIndexError\u001b[0m: list index out of range"
     ]
    },
    {
     "data": {
      "image/png": "[encoded data removed]",
      "text/plain": [
       "<Figure size 432x288 with 3 Axes>"
      ]
     },
     "metadata": {
      "needs_background": "light"
     },
     "output_type": "display_data"
    }
   ],
   "source": [
    "for i in range(0,4):\n",
    "    \n",
    "    count = 1\n",
    "    ti = 1\n",
    "\n",
    "    for j in range(0,4):\n",
    "\n",
    "        if visit[j]==1:\n",
    "            continue\n",
    "        \n",
    "        # Training on selected Features\n",
    "        model = NaiveBayes()\n",
    "        X_features=np.append(X_features,np.reshape(X[:,j],(len(X[:,0]),1)),axis=1)\n",
    "        model.fit(X_features[:int(0.6*len(Y)),1:], Y_train)\n",
    "\n",
    "        # Observing Model Accuracy in Selected Features\n",
    "        predictions = model.predict(X_features[int(0.6*len(Y)):,1:])\n",
    "        error=np.mean(predictions==Y_test)\n",
    "        accuracy.append(error)\n",
    "\n",
    "        # Plotting Accuracies\n",
    "        if(i==0):\n",
    "            C0,C0i,C1,C1i,C2,C2i,=[],[],[],[],[],[]\n",
    "\n",
    "            for l,num in enumerate(Y_test):\n",
    "                if num==predictions[l]:\n",
    "                    if num==0:\n",
    "                        C0.append(X_features[l,1])\n",
    "                    elif num==1:\n",
    "                        C1.append(X_features[l, 1])\n",
    "                    elif num==2:\n",
    "                        C2.append(X_features[l,1])\n",
    "                else:\n",
    "                    if num==0:\n",
    "                        C0i.append(X_features[l,1])\n",
    "                    elif num==1:\n",
    "                        C1i.append(X_features[l, 1])\n",
    "                    elif num==2:\n",
    "                        C2i.append(X_features[l,1])\n",
    "\n",
    "            plt.suptitle('All instances of each class from selected feature')\n",
    "            plt.subplot(4,3,count)\n",
    "            plt.title(str(flower[j])+' '+str(classes[0]))\n",
    "            plt.scatter(C0,C0,color='green')\n",
    "            plt.scatter(C0i, C0i,color='red')\n",
    "            count += 1\n",
    "            plt.subplot(4, 3, count)\n",
    "            plt.title(str(flower[j])+' '+str(classes[1]))\n",
    "            plt.scatter(C1,C1,color='green')\n",
    "            plt.scatter(C1i, C1i,color='red')\n",
    "            count += 1\n",
    "            plt.subplot(4, 3, count)\n",
    "            plt.title(str(flower[j])+' '+str(classes[2]))\n",
    "            plt.scatter(C2,C2,color='green')\n",
    "            plt.scatter(C2i, C2i,color='red')\n",
    "            count += 1\n",
    "\n",
    "        elif (i == 1):\n",
    "            C0x, C0y, C0xi, C0yi, C1x, C1y, C1xi, C1yi, C2x, C2y, C2xi, C2yi = [], [], [], [], [], [], [], [], [], [], [], []\n",
    "\n",
    "            for l, num in enumerate(Y_test):\n",
    "                if num == predictions[l]:\n",
    "                    if num == 0:\n",
    "                        C0x.append(X_features[l, 1])\n",
    "                        C0y.append(X_features[l, 2])\n",
    "                    elif num == 1:\n",
    "                        C1x.append(X_features[l, 1])\n",
    "                        C1y.append(X_features[l, 2])\n",
    "                    elif num == 2:\n",
    "                        C2x.append(X_features[l, 1])\n",
    "                        C2y.append(X_features[l, 2])\n",
    "                else:\n",
    "                    if num == 0:\n",
    "                        C0xi.append(X_features[l, 1])\n",
    "                        C0yi.append(X_features[l, 2])\n",
    "                    elif num == 1:\n",
    "                        C1xi.append(X_features[l, 1])\n",
    "                        C1yi.append(X_features[l, 2])\n",
    "                    elif num == 2:\n",
    "                        C2xi.append(X_features[l, 1])\n",
    "                        C2yi.append(X_features[l, 2])\n",
    "\n",
    "            plt.suptitle('All instances of each class from selected 2 feature')\n",
    "            plt.subplot(4, 3, count)\n",
    "            plt.title(classes[0])\n",
    "            plt.xlabel(str(flower[used[0]]))\n",
    "            plt.ylabel(str(flower[j]))\n",
    "            plt.scatter(C0x, C0y, color='green')\n",
    "            plt.scatter(C0xi, C0yi, color='red')\n",
    "            count += 1\n",
    "            plt.subplot(4, 3, count)\n",
    "            plt.title(classes[1])\n",
    "            plt.xlabel(str(flower[used[0]]))\n",
    "            plt.ylabel(str(flower[j]))\n",
    "            plt.scatter(C1x, C1y, color='green')\n",
    "            plt.scatter(C1xi, C1yi, color='red')\n",
    "            count += 1\n",
    "            plt.subplot(4, 3, count)\n",
    "            plt.title(classes[2])\n",
    "            plt.xlabel(str(flower[used[0]]))\n",
    "            plt.ylabel(str(flower[j]))\n",
    "            plt.scatter(C2x, C2y, color='green')\n",
    "            plt.scatter(C2xi, C2yi, color='red')\n",
    "            count += 1\n",
    "        \n",
    "        #storing the feature set as strings so we can show it in bar plot\n",
    "        if ti==0:\n",
    "            ystr.append(str(flower[j]))\n",
    "        elif ti==1:\n",
    "            ystr.append(str(flower[used[0]])+','+str(flower[j]))\n",
    "        elif ti==2:\n",
    "            ystr.append(str(flower[used[0]])+','+str(flower[used[1]])+','+str(flower[j]))\n",
    "        elif ti==3:\n",
    "            ystr.append(str(flower[used[0]]) + ',' + str(flower[used[1]]) + ',' + str(flower[used[2]]) + ','+ str(flower[j]))\n",
    "\n",
    "        #basically tracks the feature which on adding gives a max accuracy on the model compared to others\n",
    "        if(error>maxaccuracy):\n",
    "            maxaccuracy=error\n",
    "            ind=j\n",
    "\n",
    "            #delete the added column after use so we can add next feature and test\n",
    "            X_features=np.delete(X_features, -1, axis=1)\n",
    "\n",
    "    used.append(ind)#add the feature that is the best\n",
    "    X_features=np.append(X_features,np.reshape(X[:,ind],(len(X[:,0]),1)),axis=1)#appending that feature that gave us max accuracy\n",
    "    visit[ind]=1#marking that we visited and used the best feature to our subset\n",
    "    maxaccuracy=0\n",
    "\n",
    "    if i==0 or i==1:#showing the plots for 1 feature, 2 feature set\n",
    "        plt.tight_layout()\n",
    "        plt.show()"
   ]
  },
  {
   "cell_type": "markdown",
   "metadata": {},
   "source": [
    "## Plotting Accuracy"
   ]
  },
  {
   "cell_type": "code",
   "execution_count": 10,
   "metadata": {},
   "outputs": [
    {
     "data": {
      "image/png": "[encoded data removed]",
      "text/plain": [
       "<Figure size 432x288 with 1 Axes>"
      ]
     },
     "metadata": {
      "needs_background": "light"
     },
     "output_type": "display_data"
    }
   ],
   "source": [
    "accuracy.append(np.mean(FIN==Y_test))\n",
    "ystr.append('0,1,2,3')\n",
    "y_pos = np.arange(len(ystr))\n",
    "plt.barh(y_pos,accuracy,color='red',linewidth=2)\n",
    "plt.yticks(y_pos, ystr)\n",
    "for index, value in enumerate(accuracy):\n",
    "    plt.text(value, index, str(value))\n",
    "plt.tight_layout()\n",
    "plt.show()"
   ]
  }
 ],
 "metadata": {
  "interpreter": {
   "hash": "b3ba2566441a7c06988d0923437866b63cedc61552a5af99d1f4fb67d367b25f"
  },
  "kernelspec": {
   "display_name": "Python 3.8.3 64-bit ('base': conda)",
   "name": "python3"
  },
  "language_info": {
   "codemirror_mode": {
    "name": "ipython",
    "version": 3
   },
   "file_extension": ".py",
   "mimetype": "text/x-python",
   "name": "python",
   "nbconvert_exporter": "python",
   "pygments_lexer": "ipython3",
   "version": "3.8.3"
  },
  "orig_nbformat": 4
 },
 "nbformat": 4,
 "nbformat_minor": 2
}
